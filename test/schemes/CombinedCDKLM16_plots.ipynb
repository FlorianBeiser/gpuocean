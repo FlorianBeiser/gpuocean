{
 "cells": [
  {
   "cell_type": "code",
   "execution_count": 1,
   "metadata": {},
   "outputs": [],
   "source": [
    "#Lets have matplotlib \"inline\"\n",
    "%matplotlib inline\n",
    "\n",
    "#Import packages we need\n",
    "import numpy as np\n",
    "from matplotlib import animation, rc\n",
    "from matplotlib import pyplot as plt\n",
    "\n",
    "import os\n",
    "import datetime\n",
    "import importlib\n",
    "import sys\n",
    "\n",
    "\n",
    "#Set large figure sizes\n",
    "rc('figure', figsize=(16.0, 12.0))\n",
    "rc('animation', html='html5')\n",
    "\n",
    "#Finally, import our simulator\n",
    "from gpuocean.SWEsimulators import CDKLM16, CombinedCDKLM16\n",
    "from gpuocean.utils import IPythonMagic, Common"
   ]
  },
  {
   "cell_type": "code",
   "execution_count": 2,
   "metadata": {},
   "outputs": [],
   "source": [
    "%cuda_context_handler gpu_ctx_in"
   ]
  },
  {
   "cell_type": "code",
   "execution_count": 3,
   "metadata": {},
   "outputs": [],
   "source": [
    "%cuda_context_handler gpu_ctx_out"
   ]
  },
  {
   "cell_type": "code",
   "execution_count": 4,
   "metadata": {},
   "outputs": [],
   "source": [
    "nx = 50\n",
    "ny = 70\n",
    "        \n",
    "dx = 200.0\n",
    "dy = 200.0\n",
    "        \n",
    "dt = 0.0\n",
    "g = 9.81\n",
    "f = 0.0\n",
    "r = 0.0\n",
    "    \n",
    "ghosts = [2,2,2,2] # north, east, south, west\n",
    "dataShape = (ny + ghosts[0]+ghosts[2], \n",
    "                     nx + ghosts[1]+ghosts[3])\n",
    "\n",
    "T = 600.0\n",
    "\n",
    "dataRange = [-2, -2, 2, 2]\n",
    "refRange = dataRange"
   ]
  },
  {
   "cell_type": "code",
   "execution_count": 5,
   "metadata": {},
   "outputs": [],
   "source": [
    "eta0_in = np.zeros(dataShape, dtype=np.float32)\n",
    "hu0_in  = np.zeros(dataShape, dtype=np.float32)\n",
    "hv0_in  = np.zeros(dataShape, dtype=np.float32)\n",
    "\n",
    "eta0_out = np.zeros(dataShape, dtype=np.float32)\n",
    "hu0_out  = np.zeros(dataShape, dtype=np.float32)\n",
    "hv0_out  = np.zeros(dataShape, dtype=np.float32)\n",
    "\n",
    "Hi_in  = np.ones((dataShape[0]+1, dataShape[1]+1), dtype=np.float32, order='C') * 10\n",
    "Hi_out = np.ones((dataShape[0]+1, dataShape[1]+1), dtype=np.float32, order='C') * 10\n",
    "\n",
    "bc= Common.BoundaryConditions(3,3,3,3, spongeCells={'north':10, 'south': 10, 'east': 10, 'west': 10})\n",
    "\n",
    "bc_data_in  = Common.BoundaryConditionsData()\n",
    "bc_data_in.north.h = [np.array([[1,1]], dtype=np.float32)]\n",
    "\n",
    "bc_data_out = Common.BoundaryConditionsData()\n",
    "bc_data_out.north.h = [np.array([[1,1]], dtype=np.float32)] # CHANGED CHANGED!!!"
   ]
  },
  {
   "cell_type": "code",
   "execution_count": 6,
   "metadata": {},
   "outputs": [],
   "source": [
    "sim_in = CDKLM16.CDKLM16(gpu_ctx_in, eta0_in, hu0_in, hv0_in, Hi_in,\\\n",
    "                                nx, ny, dx, dy, 0.0, g, f, r, \\\n",
    "                                boundary_conditions=bc, boundary_conditions_data=bc_data_in)\n",
    "\n",
    "sim_out = CDKLM16.CDKLM16(gpu_ctx_out, eta0_out, hu0_out, hv0_out, Hi_out,\\\n",
    "                                nx, ny, dx, dy, 0.0, g, f, r, \\\n",
    "                                boundary_conditions=bc, boundary_conditions_data=bc_data_out)\n",
    "\n",
    "sims = CombinedCDKLM16.CombinedCDKLM16(sim_in, sim_out)\n",
    "\n",
    "sims.combinedStep(T)\n",
    "\n",
    "eta_in2, hu_in2, hv_in2 = sims.barotropic_sim.download(interior_domain_only=True)\n",
    "eta_out2, hu_out2, hv_out2 = sims.baroclinic_sim.download(interior_domain_only=True)"
   ]
  },
  {
   "cell_type": "code",
   "execution_count": 7,
   "metadata": {},
   "outputs": [],
   "source": [
    "# Individual sim with in-coming wave\n",
    "gpu_ctx_in = Common.CUDAContext()\n",
    "\n",
    "sim_in = CDKLM16.CDKLM16(gpu_ctx_in, eta0_in, hu0_in, hv0_in, Hi_in,\\\n",
    "                                nx, ny, dx, dy, 0.0, g, f, r, \\\n",
    "                                boundary_conditions=bc, boundary_conditions_data=bc_data_in)\n",
    "\n",
    "sim_in.step(T)\n",
    "\n",
    "eta_in, hu_in, hv_in = sim_in.download(interior_domain_only=True)\n",
    "\n",
    "# Individual sim with in-coming wave\n",
    "gpu_ctx_out = Common.CUDAContext()\n",
    "\n",
    "sim_out = CDKLM16.CDKLM16(gpu_ctx_out, eta0_out, hu0_out, hv0_out, Hi_out,\\\n",
    "                                nx, ny, dx, dy, 0.0, g, f, r, \\\n",
    "                                boundary_conditions=bc, boundary_conditions_data=bc_data_out)\n",
    "\n",
    "sim_out.step(T)\n",
    "\n",
    "eta_out, hu_out, hv_out = sim_out.download(interior_domain_only=True)\n"
   ]
  },
  {
   "cell_type": "code",
   "execution_count": 8,
   "metadata": {},
   "outputs": [
    {
     "data": {
      "text/plain": [
       "<matplotlib.colorbar.Colorbar at 0x243a6d00608>"
      ]
     },
     "execution_count": 8,
     "metadata": {},
     "output_type": "execute_result"
    },
    {
     "data": {
      "image/png": "[encoded data removed]",
      "text/plain": [
       "<Figure size 1152x864 with 2 Axes>"
      ]
     },
     "metadata": {
      "needs_background": "light"
     },
     "output_type": "display_data"
    }
   ],
   "source": [
    "plt.imshow(eta_in - eta_in2)\n",
    "plt.colorbar()"
   ]
  },
  {
   "cell_type": "code",
   "execution_count": 9,
   "metadata": {},
   "outputs": [
    {
     "data": {
      "text/plain": [
       "<matplotlib.colorbar.Colorbar at 0x243a6db39c8>"
      ]
     },
     "execution_count": 9,
     "metadata": {},
     "output_type": "execute_result"
    },
    {
     "data": {
      "image/png": "[encoded data removed]",
      "text/plain": [
       "<Figure size 1152x864 with 2 Axes>"
      ]
     },
     "metadata": {
      "needs_background": "light"
     },
     "output_type": "display_data"
    }
   ],
   "source": [
    "plt.imshow(hv_in - hv_in2)\n",
    "plt.colorbar()"
   ]
  },
  {
   "cell_type": "code",
   "execution_count": null,
   "metadata": {},
   "outputs": [],
   "source": []
  }
 ],
 "metadata": {
  "kernelspec": {
   "display_name": "gpuocean_opendrift",
   "language": "python",
   "name": "python3"
  },
  "language_info": {
   "codemirror_mode": {
    "name": "ipython",
    "version": 3
   },
   "file_extension": ".py",
   "mimetype": "text/x-python",
   "name": "python",
   "nbconvert_exporter": "python",
   "pygments_lexer": "ipython3",
   "version": "3.7.12"
  }
 },
 "nbformat": 4,
 "nbformat_minor": 2
}
