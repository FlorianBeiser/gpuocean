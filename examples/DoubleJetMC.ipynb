{
 "cells": [
  {
   "cell_type": "code",
   "execution_count": 1,
   "metadata": {},
   "outputs": [
    {
     "data": {
      "text/plain": [
       "'\\nThis software is part of GPU Ocean. \\n\\nCopyright (C) 2017-2023 SINTEF Digital\\nCopyright (C) 2017-2023 Norwegian Meteorological Institute\\n\\nThis notebooks shows Monte Carlo realisations of the doublejet example\\n\\nThis program is free software: you can redistribute it and/or modify\\nit under the terms of the GNU General Public License as published by\\nthe Free Software Foundation, either version 3 of the License, or\\n(at your option) any later version.\\n\\nThis program is distributed in the hope that it will be useful,\\nbut WITHOUT ANY WARRANTY; without even the implied warranty of\\nMERCHANTABILITY or FITNESS FOR A PARTICULAR PURPOSE.  See the\\nGNU General Public License for more details.\\n\\nYou should have received a copy of the GNU General Public License\\nalong with this program.  If not, see <http://www.gnu.org/licenses/>.\\n'"
      ]
     },
     "execution_count": 1,
     "metadata": {},
     "output_type": "execute_result"
    }
   ],
   "source": [
    "\"\"\"\n",
    "This software is part of GPU Ocean. \n",
    "\n",
    "Copyright (C) 2017-2023 SINTEF Digital\n",
    "Copyright (C) 2017-2023 Norwegian Meteorological Institute\n",
    "\n",
    "This notebooks shows Monte Carlo realisations of the doublejet example\n",
    "\n",
    "This program is free software: you can redistribute it and/or modify\n",
    "it under the terms of the GNU General Public License as published by\n",
    "the Free Software Foundation, either version 3 of the License, or\n",
    "(at your option) any later version.\n",
    "\n",
    "This program is distributed in the hope that it will be useful,\n",
    "but WITHOUT ANY WARRANTY; without even the implied warranty of\n",
    "MERCHANTABILITY or FITNESS FOR A PARTICULAR PURPOSE.  See the\n",
    "GNU General Public License for more details.\n",
    "\n",
    "You should have received a copy of the GNU General Public License\n",
    "along with this program.  If not, see <http://www.gnu.org/licenses/>.\n",
    "\"\"\""
   ]
  },
  {
   "cell_type": "markdown",
   "metadata": {},
   "source": [
    "# Double Jet"
   ]
  },
  {
   "cell_type": "code",
   "execution_count": 1,
   "metadata": {},
   "outputs": [],
   "source": [
    "#Lets have matplotlib \"inline\"\n",
    "%matplotlib inline\n",
    "\n",
    "import os\n",
    "import sys\n",
    "\n",
    "#Import packages we need\n",
    "import numpy as np\n",
    "from netCDF4 import Dataset\n",
    "import datetime\n",
    "from IPython.display import display\n",
    "\n",
    "#For plotting\n",
    "import matplotlib\n",
    "from matplotlib import pyplot as plt"
   ]
  },
  {
   "cell_type": "code",
   "execution_count": 2,
   "metadata": {},
   "outputs": [],
   "source": [
    "from gpuocean.utils import Common, IPythonMagic"
   ]
  },
  {
   "cell_type": "code",
   "execution_count": 3,
   "metadata": {},
   "outputs": [],
   "source": [
    "%cuda_context_handler gpu_ctx"
   ]
  },
  {
   "cell_type": "code",
   "execution_count": 4,
   "metadata": {},
   "outputs": [],
   "source": [
    "from gpuocean.utils import DoubleJetCase\n",
    "\n",
    "doubleJetCase = DoubleJetCase.DoubleJetCase(gpu_ctx, DoubleJetCase.DoubleJetPerturbationType.SteadyState)\n",
    "doubleJetCase_args, doubleJetCase_init = doubleJetCase.getInitConditions()"
   ]
  },
  {
   "cell_type": "code",
   "execution_count": 5,
   "metadata": {},
   "outputs": [],
   "source": [
    "from gpuocean.ensembles import OceanModelEnsemble\n",
    "from gpuocean.utils import Observation"
   ]
  },
  {
   "cell_type": "code",
   "execution_count": 6,
   "metadata": {},
   "outputs": [
    {
     "data": {
      "text/plain": [
       "<gpuocean.utils.Common.CUDAContext at 0x7f4a8c169910>"
      ]
     },
     "execution_count": 6,
     "metadata": {},
     "output_type": "execute_result"
    }
   ],
   "source": [
    "doubleJetCase_args.pop(\"gpu_ctx\")"
   ]
  },
  {
   "cell_type": "code",
   "execution_count": 7,
   "metadata": {},
   "outputs": [],
   "source": [
    "import copy\n",
    "data_args = copy.deepcopy(doubleJetCase_args)\n",
    "data_args.update(doubleJetCase_init)"
   ]
  },
  {
   "cell_type": "code",
   "execution_count": 8,
   "metadata": {},
   "outputs": [],
   "source": [
    "ensemble = OceanModelEnsemble.OceanModelEnsemble(gpu_ctx, \n",
    "                                                 {},\n",
    "                                                 data_args, \n",
    "                                                 3)"
   ]
  },
  {
   "cell_type": "code",
   "execution_count": 9,
   "metadata": {},
   "outputs": [],
   "source": [
    "dim_x = doubleJetCase_args[\"dx\"]*doubleJetCase_args[\"nx\"]\n",
    "dim_y = doubleJetCase_args[\"dy\"]*doubleJetCase_args[\"ny\"]"
   ]
  },
  {
   "cell_type": "code",
   "execution_count": 10,
   "metadata": {},
   "outputs": [],
   "source": [
    "ensemble.attachDrifters(np.random.uniform((0, 0), (dim_x, dim_y), (100, 2)))"
   ]
  },
  {
   "cell_type": "code",
   "execution_count": 11,
   "metadata": {},
   "outputs": [],
   "source": [
    "def stepToObservation(ensemble, observation_time, progress_info=True, obs_dt=300):\n",
    "    \"\"\"\n",
    "    Advance the ensemble to the given observation time, and mimics CDKLM16.dataAssimilationStep function\n",
    "    \n",
    "    Arguments:\n",
    "        observation_time: The end time for the simulation \n",
    "    \"\"\"\n",
    "    ensemble_obs = []\n",
    "    for p in range(ensemble.getNumParticles()):\n",
    "\n",
    "        if ensemble.particles[p].hasDrifters:\n",
    "\n",
    "            observation_args = {\n",
    "                'nx': ensemble.particles[p].nx, 'ny': ensemble.particles[p].ny,\n",
    "                'domain_size_x': ensemble.particles[p].nx*ensemble.particles[p].dx,\n",
    "                'domain_size_y': ensemble.particles[p].ny*ensemble.particles[p].dy,\n",
    "                'land_mask': ensemble.particles[p].getLandMask()\n",
    "               }\n",
    "\n",
    "            obs = Observation.Observation(**observation_args)\n",
    "            ensemble_obs.append(obs)\n",
    "            obs.add_observation_from_sim(ensemble.particles[p])\n",
    "    \n",
    "        # Only active particles are evolved\n",
    "        while ensemble.particles[p].t < observation_time - 0.001:\n",
    "            ensemble.particles[p].dataAssimilationStep(np.minimum(ensemble.particles[p].t+obs_dt,observation_time))\n",
    "            obs.add_observation_from_sim(ensemble.particles[p])\n",
    "\n",
    "        if progress_info:\n",
    "            print('Step done for particle ' + str(p))\n",
    "        \n",
    "    ensemble.t = observation_time\n",
    "\n",
    "    return ensemble_obs"
   ]
  },
  {
   "cell_type": "code",
   "execution_count": 12,
   "metadata": {},
   "outputs": [
    {
     "name": "stdout",
     "output_type": "stream",
     "text": [
      "Step done for particle 0\n",
      "Step done for particle 1\n",
      "Step done for particle 2\n"
     ]
    }
   ],
   "source": [
    "ensemble_obs = stepToObservation(ensemble, 5*24*3600)"
   ]
  },
  {
   "cell_type": "code",
   "execution_count": 13,
   "metadata": {},
   "outputs": [
    {
     "data": {
      "text/plain": [
       "<module 'gpuocean.utils.DrifterPlotHelper' from '/home/florianb/havvarsel/gpuocean/src/gpuocean/utils/DrifterPlotHelper.py'>"
      ]
     },
     "execution_count": 13,
     "metadata": {},
     "output_type": "execute_result"
    }
   ],
   "source": [
    "from importlib import reload\n",
    "from gpuocean.utils import DrifterPlotHelper\n",
    "reload(DrifterPlotHelper)"
   ]
  },
  {
   "cell_type": "code",
   "execution_count": 14,
   "metadata": {},
   "outputs": [
    {
     "data": {
      "image/png": "[encoded data removed]",
      "text/plain": [
       "<Figure size 432x288 with 1 Axes>"
      ]
     },
     "metadata": {
      "needs_background": "light"
     },
     "output_type": "display_data"
    }
   ],
   "source": [
    "ax = DrifterPlotHelper.background_from_ensemble(ensemble)\n",
    "\n",
    "DrifterPlotHelper.add_ensemble_drifter_on_background(ax, ensemble_obs, alpha=0.5)\n",
    "DrifterPlotHelper.add_ensemble_drifter_on_background(ax, ensemble_obs, drifter_id=1,alpha=0.5, color=\"Orange\")"
   ]
  }
 ],
 "metadata": {
  "kernelspec": {
   "display_name": "gpuocean_opendrift",
   "language": "python",
   "name": "python3"
  },
  "language_info": {
   "codemirror_mode": {
    "name": "ipython",
    "version": 3
   },
   "file_extension": ".py",
   "mimetype": "text/x-python",
   "name": "python",
   "nbconvert_exporter": "python",
   "pygments_lexer": "ipython3",
   "version": "3.7.12"
  },
  "orig_nbformat": 4
 },
 "nbformat": 4,
 "nbformat_minor": 2
}
