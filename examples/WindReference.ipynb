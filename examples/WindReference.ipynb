{
 "cells": [
  {
   "cell_type": "markdown",
   "metadata": {},
   "source": [
    "Branch \"reference_wind\""
   ]
  },
  {
   "cell_type": "code",
   "execution_count": 1,
   "metadata": {},
   "outputs": [],
   "source": [
    "#Lets have matplotlib \"inline\"\n",
    "%matplotlib inline\n",
    "\n",
    "import os\n",
    "import sys\n",
    "\n",
    "#Import packages we need\n",
    "import numpy as np\n",
    "from netCDF4 import Dataset\n",
    "import datetime\n",
    "from IPython.display import display\n",
    "\n",
    "#For plotting\n",
    "import matplotlib\n",
    "from matplotlib import pyplot as plt"
   ]
  },
  {
   "cell_type": "markdown",
   "metadata": {},
   "source": [
    "GPU Ocean-modules:"
   ]
  },
  {
   "cell_type": "code",
   "execution_count": 2,
   "metadata": {},
   "outputs": [],
   "source": [
    "from gpuocean.SWEsimulators import CDKLM16\n",
    "from gpuocean.utils import Common, IPythonMagic, NetCDFInitialization, Observation, WindStress\n",
    "from gpuocean.drifters import GPUDrifterCollection\n",
    "from gpuocean.dataassimilation import DataAssimilationUtils as dautils"
   ]
  },
  {
   "cell_type": "code",
   "execution_count": 3,
   "metadata": {},
   "outputs": [],
   "source": [
    "%cuda_context_handler gpu_ctx"
   ]
  },
  {
   "cell_type": "code",
   "execution_count": 4,
   "metadata": {},
   "outputs": [],
   "source": [
    "nx = 100\n",
    "ny = 100\n",
    "\n",
    "dx = 100.0\n",
    "dy = 100.0\n",
    "\n",
    "dt = 0.0\n",
    "g = 9.81\n",
    "f = 0.0\n",
    "r = 0.0\n",
    "\n",
    "ghosts = [2,2,2,2] # north, east, south, west\n",
    "\n",
    "dataShape = (ny + ghosts[0] + ghosts[2], nx + ghosts[1] + ghosts[3])\n",
    "\n",
    "eta0 = np.zeros(dataShape, dtype=np.float32)\n",
    "hu0 = -1*np.ones(dataShape, dtype=np.float32)\n",
    "hv0 = np.zeros(dataShape, dtype=np.float32)\n",
    "Hi = 10 * np.ones((dataShape[0]+1, dataShape[1]+1), dtype=np.float32, order='C')\n",
    "\n",
    "boundary_conditions = Common.BoundaryConditions(2,2,2,2)\n",
    "\n",
    "T = 600"
   ]
  },
  {
   "cell_type": "code",
   "execution_count": 5,
   "metadata": {},
   "outputs": [],
   "source": [
    "wind_t = np.array([0])\n",
    "wind_u = [np.array([[10]])]\n",
    "wind_v = [np.array([[ 0]])]\n",
    "\n",
    "rho_a = 1.225 # Density of air\n",
    "rho_w = 1025 # Density of water\n",
    "\n",
    "wind_stress_u = []\n",
    "wind_stress_v = []\n",
    "for t in range(len(wind_t)):\n",
    "    # Technically requires compatible shape between wind_u[t] and wind_v[t]\n",
    "    wind_speed = np.sqrt(np.power(wind_u[t], 2) + np.power(wind_v[t], 2))\n",
    "    C_drag = np.where(wind_speed < 11, 0.0012, 0.00049 + 0.000065*wind_speed)\n",
    "\n",
    "    wind_stress = C_drag * wind_speed * rho_a / rho_w\n",
    "    wind_stress_u.append( wind_stress*wind_u[t] )\n",
    "    wind_stress_v.append( wind_stress*wind_v[t] )\n",
    "\n",
    "wind_forcing = WindStress.WindStress(t=wind_t, X=np.float32(wind_stress_u), Y=np.float32(wind_stress_v))"
   ]
  },
  {
   "cell_type": "code",
   "execution_count": 6,
   "metadata": {},
   "outputs": [],
   "source": [
    "sim = CDKLM16.CDKLM16(gpu_ctx, \\\n",
    "                        eta0, hu0, hv0, Hi, \\\n",
    "                        nx, ny, \\\n",
    "                        dx, dy, dt, \\\n",
    "                        g, f, r, \\\n",
    "                        boundary_conditions=boundary_conditions,\n",
    "                        wind_stress=wind_forcing)"
   ]
  },
  {
   "cell_type": "code",
   "execution_count": 7,
   "metadata": {},
   "outputs": [],
   "source": [
    "observation_args = {'observation_type': dautils.ObservationType.UnderlyingFlow,\n",
    "                'nx': sim.nx, 'ny': sim.ny,\n",
    "                'domain_size_x': sim.nx*sim.dx,\n",
    "                'domain_size_y': sim.ny*sim.dy,\n",
    "                'land_mask': sim.getLandMask()\n",
    "               }\n",
    "\n",
    "forecast = Observation.Observation(**observation_args)"
   ]
  },
  {
   "cell_type": "code",
   "execution_count": 8,
   "metadata": {},
   "outputs": [],
   "source": [
    "wind = WindStress.WindStress(t=wind_t, X=np.float32(wind_v), Y=np.float32(wind_u))"
   ]
  },
  {
   "cell_type": "code",
   "execution_count": 9,
   "metadata": {},
   "outputs": [],
   "source": [
    "drifters = GPUDrifterCollection.GPUDrifterCollection(gpu_ctx, 1, \n",
    "                                                 wind = wind, wind_drift_factor=0.02,\n",
    "                                                 boundaryConditions = sim.boundary_conditions,\n",
    "                                                 domain_size_x = forecast.domain_size_x,\n",
    "                                                 domain_size_y = forecast.domain_size_y,\n",
    "                                                 gpu_stream = sim.gpu_stream)"
   ]
  },
  {
   "cell_type": "code",
   "execution_count": 10,
   "metadata": {},
   "outputs": [],
   "source": [
    "drifters.setDrifterPositions([[int(0.5*ny*dy),int(0.5*ny*dy)]])\n",
    "sim.attachDrifters(drifters)"
   ]
  },
  {
   "cell_type": "code",
   "execution_count": 11,
   "metadata": {},
   "outputs": [],
   "source": [
    "for min in range(T):\n",
    "    sim.step(10)\n",
    "    forecast.add_observation_from_sim(sim)"
   ]
  },
  {
   "cell_type": "code",
   "execution_count": 12,
   "metadata": {},
   "outputs": [],
   "source": [
    "pos = []\n",
    "for i in range(len(forecast.obs_df[\"drifter_positions\"])):\n",
    "    pos.append([forecast.obs_df[\"drifter_positions\"].iloc[i][0][0].item(),forecast.obs_df[\"drifter_positions\"].iloc[i][0][1].item()])\n",
    "pos = np.array(pos)"
   ]
  },
  {
   "cell_type": "code",
   "execution_count": 13,
   "metadata": {},
   "outputs": [
    {
     "data": {
      "text/plain": [
       "<matplotlib.collections.PathCollection at 0x7fe6c441b350>"
      ]
     },
     "execution_count": 13,
     "metadata": {},
     "output_type": "execute_result"
    },
    {
     "data": {
      "image/png": "[encoded data removed]",
      "text/plain": [
       "<Figure size 432x288 with 1 Axes>"
      ]
     },
     "metadata": {
      "needs_background": "light"
     },
     "output_type": "display_data"
    }
   ],
   "source": [
    "plt.scatter(pos[:,0],pos[:,1])"
   ]
  },
  {
   "cell_type": "code",
   "execution_count": 14,
   "metadata": {},
   "outputs": [
    {
     "data": {
      "text/plain": [
       "(4658.2216796875, 6200.29296875)"
      ]
     },
     "execution_count": 14,
     "metadata": {},
     "output_type": "execute_result"
    }
   ],
   "source": [
    "pos[-1,0],pos[-1,1]"
   ]
  }
 ],
 "metadata": {
  "kernelspec": {
   "display_name": "Python 3.7.12 ('gpuocean')",
   "language": "python",
   "name": "python3"
  },
  "language_info": {
   "codemirror_mode": {
    "name": "ipython",
    "version": 3
   },
   "file_extension": ".py",
   "mimetype": "text/x-python",
   "name": "python",
   "nbconvert_exporter": "python",
   "pygments_lexer": "ipython3",
   "version": "3.7.12"
  },
  "vscode": {
   "interpreter": {
    "hash": "8f2533c4321717d78a0dea0f22364144e61e5e875423e1d8df93e4f8589bdcaa"
   }
  }
 },
 "nbformat": 4,
 "nbformat_minor": 4
}
