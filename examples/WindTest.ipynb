{
 "cells": [
  {
   "cell_type": "markdown",
   "metadata": {},
   "source": [
    "Branch \"wind_vs_wind_stress\""
   ]
  },
  {
   "cell_type": "code",
   "execution_count": 1,
   "metadata": {},
   "outputs": [],
   "source": [
    "#Lets have matplotlib \"inline\"\n",
    "%matplotlib inline\n",
    "\n",
    "import os\n",
    "import sys\n",
    "\n",
    "#Import packages we need\n",
    "import numpy as np\n",
    "from netCDF4 import Dataset\n",
    "import datetime\n",
    "from IPython.display import display\n",
    "\n",
    "#For plotting\n",
    "import matplotlib\n",
    "from matplotlib import pyplot as plt"
   ]
  },
  {
   "cell_type": "markdown",
   "metadata": {},
   "source": [
    "GPU Ocean-modules:"
   ]
  },
  {
   "cell_type": "code",
   "execution_count": 2,
   "metadata": {},
   "outputs": [],
   "source": [
    "from gpuocean.SWEsimulators import CDKLM16\n",
    "from gpuocean.utils import Common, IPythonMagic, NetCDFInitialization, Observation, WindStress\n",
    "from gpuocean.drifters import GPUDrifterCollection\n",
    "from gpuocean.dataassimilation import DataAssimilationUtils as dautils"
   ]
  },
  {
   "cell_type": "code",
   "execution_count": 3,
   "metadata": {},
   "outputs": [],
   "source": [
    "%cuda_context_handler gpu_ctx"
   ]
  },
  {
   "cell_type": "code",
   "execution_count": 4,
   "metadata": {},
   "outputs": [],
   "source": [
    "%cuda_context_handler gpu_ctx_wind0"
   ]
  },
  {
   "cell_type": "code",
   "execution_count": 5,
   "metadata": {},
   "outputs": [],
   "source": [
    "%cuda_context_handler gpu_ctx_wind1"
   ]
  },
  {
   "cell_type": "code",
   "execution_count": 6,
   "metadata": {},
   "outputs": [],
   "source": [
    "%cuda_context_handler gpu_ctx_wind2"
   ]
  },
  {
   "cell_type": "code",
   "execution_count": 7,
   "metadata": {},
   "outputs": [],
   "source": [
    "%cuda_context_handler gpu_ctx_wind3"
   ]
  },
  {
   "cell_type": "code",
   "execution_count": 8,
   "metadata": {},
   "outputs": [],
   "source": [
    "%cuda_context_handler gpu_ctx_wind4"
   ]
  },
  {
   "cell_type": "code",
   "execution_count": 9,
   "metadata": {},
   "outputs": [],
   "source": [
    "%cuda_context_handler gpu_ctx_wind5"
   ]
  },
  {
   "cell_type": "code",
   "execution_count": 10,
   "metadata": {},
   "outputs": [],
   "source": [
    "%cuda_context_handler gpu_ctx_wind6"
   ]
  },
  {
   "cell_type": "code",
   "execution_count": 11,
   "metadata": {},
   "outputs": [],
   "source": [
    "%cuda_context_handler gpu_ctx_wind7"
   ]
  },
  {
   "cell_type": "code",
   "execution_count": 12,
   "metadata": {},
   "outputs": [],
   "source": [
    "%cuda_context_handler gpu_ctx_wind8"
   ]
  },
  {
   "cell_type": "code",
   "execution_count": 13,
   "metadata": {},
   "outputs": [],
   "source": [
    "%cuda_context_handler gpu_ctx_wind9"
   ]
  },
  {
   "cell_type": "code",
   "execution_count": 14,
   "metadata": {},
   "outputs": [],
   "source": [
    "%cuda_context_handler gpu_ctx_wind10"
   ]
  },
  {
   "cell_type": "code",
   "execution_count": 15,
   "metadata": {},
   "outputs": [],
   "source": [
    "%cuda_context_handler gpu_ctx_wind11"
   ]
  },
  {
   "cell_type": "code",
   "execution_count": 16,
   "metadata": {},
   "outputs": [],
   "source": [
    "gpu_ctx_winds = [gpu_ctx_wind0, gpu_ctx_wind1, gpu_ctx_wind2, gpu_ctx_wind3, gpu_ctx_wind4, gpu_ctx_wind5, gpu_ctx_wind6, gpu_ctx_wind7, gpu_ctx_wind8, gpu_ctx_wind9, gpu_ctx_wind10, gpu_ctx_wind11]"
   ]
  },
  {
   "cell_type": "code",
   "execution_count": 17,
   "metadata": {},
   "outputs": [],
   "source": [
    "nx = 100\n",
    "ny = 100\n",
    "\n",
    "dx = 100.0\n",
    "dy = 100.0\n",
    "\n",
    "dt = 0.0\n",
    "g = 9.81\n",
    "f = 0.0\n",
    "r = 0.0\n",
    "\n",
    "ghosts = [2,2,2,2] # north, east, south, west\n",
    "\n",
    "dataShape = (ny + ghosts[0] + ghosts[2], nx + ghosts[1] + ghosts[3])\n",
    "\n",
    "eta0 = np.zeros(dataShape, dtype=np.float32)\n",
    "hu0 = np.zeros(dataShape, dtype=np.float32)\n",
    "hv0 = np.zeros(dataShape, dtype=np.float32)\n",
    "Hi = 10 * np.ones((dataShape[0]+1, dataShape[1]+1), dtype=np.float32, order='C')\n",
    "\n",
    "boundary_conditions = Common.BoundaryConditions(2,2,2,2)\n",
    "\n",
    "T = 600"
   ]
  },
  {
   "cell_type": "code",
   "execution_count": 18,
   "metadata": {},
   "outputs": [],
   "source": [
    "wind_t = np.array([0])\n",
    "wind_u = [np.array([[ 0]])]\n",
    "wind_v = [np.array([[ 0]])]"
   ]
  },
  {
   "cell_type": "code",
   "execution_count": 19,
   "metadata": {},
   "outputs": [],
   "source": [
    "wind = WindStress.WindStress(t=wind_t, wind_u=np.float32(wind_u), wind_v=np.float32(wind_v))"
   ]
  },
  {
   "cell_type": "code",
   "execution_count": 20,
   "metadata": {},
   "outputs": [],
   "source": [
    "sim = CDKLM16.CDKLM16(gpu_ctx, \\\n",
    "                        eta0, hu0, hv0, Hi, \\\n",
    "                        nx, ny, \\\n",
    "                        dx, dy, dt, \\\n",
    "                        g, f, r, \\\n",
    "                        boundary_conditions=boundary_conditions,\n",
    "                        wind=wind)"
   ]
  },
  {
   "cell_type": "code",
   "execution_count": 21,
   "metadata": {},
   "outputs": [],
   "source": [
    "N_winds = 12"
   ]
  },
  {
   "cell_type": "code",
   "execution_count": 22,
   "metadata": {},
   "outputs": [],
   "source": [
    "import pandas as pd \n",
    "forecasts = N_winds*[pd.DataFrame(columns=[\"time\",\"pos_x\", \"pos_y\"])]"
   ]
  },
  {
   "cell_type": "code",
   "execution_count": 23,
   "metadata": {},
   "outputs": [],
   "source": [
    "wind4drifters = []\n",
    "for i in range(N_winds):\n",
    "    wind4drifters.append( WindStress.WindStress(t=wind_t, wind_u=np.float32([np.array([[np.sin(2*np.pi/N_winds*i)]])]), wind_v=np.float32([np.array([[np.cos(2*np.pi/N_winds*i)]])])) )"
   ]
  },
  {
   "cell_type": "code",
   "execution_count": 24,
   "metadata": {},
   "outputs": [
    {
     "data": {
      "image/png": "[encoded data removed]",
      "text/plain": [
       "<Figure size 432x288 with 1 Axes>"
      ]
     },
     "metadata": {
      "needs_background": "light"
     },
     "output_type": "display_data"
    }
   ],
   "source": [
    "for i in range(N_winds):\n",
    "    plt.scatter(wind4drifters[i].wind_u[0][0][0],wind4drifters[i].wind_v[0][0][0])\n",
    "    plt.xlim([-1,1])\n",
    "    plt.ylim([-1,1])"
   ]
  },
  {
   "cell_type": "code",
   "execution_count": 25,
   "metadata": {},
   "outputs": [],
   "source": [
    "drifterSets = []\n",
    "for i in range(N_winds):\n",
    "    drifterSets.append( GPUDrifterCollection.GPUDrifterCollection( gpu_ctx_winds[i], 1, \n",
    "                                                 wind = wind4drifters[i], wind_drift_factor=0.02,\n",
    "                                                 boundaryConditions = sim.boundary_conditions,\n",
    "                                                 domain_size_x =  sim.nx*sim.dx,\n",
    "                                                 domain_size_y =  sim.ny*sim.dy,\n",
    "                                                 gpu_stream = sim.gpu_stream) )\n",
    "    drifterSets[i].setDrifterPositions([[int(0.5*ny*dy),int(0.5*ny*dy)]])\n",
    "    drifter_positions = drifterSets[i].getDrifterPositions()[0]\n",
    "    forecasts[i] = forecasts[i].append({\"time\":sim.t, \"pos_x\":drifter_positions[1], \"pos_y\":drifter_positions[0]}, ignore_index=True)"
   ]
  },
  {
   "cell_type": "code",
   "execution_count": 26,
   "metadata": {},
   "outputs": [],
   "source": [
    "for min in range(T):\n",
    "    dt = 1\n",
    "    sim.step(dt)\n",
    "    for i in range(N_winds):\n",
    "        drifterSets[i].drift(sim.gpu_data.h0, sim.gpu_data.hu0, sim.gpu_data.hv0, \\\n",
    "                        sim.bathymetry.Bm, sim.nx, sim.ny, sim.t, sim.dx, sim.dy, \\\n",
    "                        dt, np.int32(2), np.int32(2))\n",
    "        drifter_positions = drifterSets[i].getDrifterPositions()[0]\n",
    "        forecasts[i] = forecasts[i].append({\"time\":sim.t, \"pos_x\":drifter_positions[0], \"pos_y\":drifter_positions[1]}, ignore_index=True)"
   ]
  },
  {
   "cell_type": "code",
   "execution_count": 27,
   "metadata": {},
   "outputs": [],
   "source": [
    "drifter_pathes = []\n",
    "for i in range(N_winds):\n",
    "    drifter_pathes.append( [forecasts[i][\"pos_x\"].to_numpy(), forecasts[i][\"pos_y\"].to_numpy()] )\n"
   ]
  },
  {
   "cell_type": "code",
   "execution_count": 28,
   "metadata": {},
   "outputs": [
    {
     "data": {
      "image/png": "[encoded data removed]",
      "text/plain": [
       "<Figure size 432x288 with 1 Axes>"
      ]
     },
     "metadata": {
      "needs_background": "light"
     },
     "output_type": "display_data"
    }
   ],
   "source": [
    "for i in range(N_winds):\n",
    "    plt.scatter(drifter_pathes[i][0],drifter_pathes[i][1])"
   ]
  }
 ],
 "metadata": {
  "kernelspec": {
   "display_name": "Python 3.7.12 ('gpuocean')",
   "language": "python",
   "name": "python3"
  },
  "language_info": {
   "codemirror_mode": {
    "name": "ipython",
    "version": 3
   },
   "file_extension": ".py",
   "mimetype": "text/x-python",
   "name": "python",
   "nbconvert_exporter": "python",
   "pygments_lexer": "ipython3",
   "version": "3.7.12"
  },
  "vscode": {
   "interpreter": {
    "hash": "8f2533c4321717d78a0dea0f22364144e61e5e875423e1d8df93e4f8589bdcaa"
   }
  }
 },
 "nbformat": 4,
 "nbformat_minor": 4
}
